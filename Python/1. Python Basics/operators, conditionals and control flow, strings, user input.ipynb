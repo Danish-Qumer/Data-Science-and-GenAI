{
 "cells": [
  {
   "cell_type": "markdown",
   "id": "63694f2a",
   "metadata": {},
   "source": [
    "### Arithmetic operators"
   ]
  },
  {
   "cell_type": "code",
   "execution_count": 21,
   "id": "4a850a9f",
   "metadata": {},
   "outputs": [
    {
     "name": "stdout",
     "output_type": "stream",
     "text": [
      "2\n"
     ]
    }
   ],
   "source": [
    "a = 2\n",
    "print(a)"
   ]
  },
  {
   "cell_type": "code",
   "execution_count": 22,
   "id": "2ebe4d07",
   "metadata": {},
   "outputs": [
    {
     "name": "stdout",
     "output_type": "stream",
     "text": [
      "3\n"
     ]
    }
   ],
   "source": [
    "a+=1\n",
    "print(a)"
   ]
  },
  {
   "cell_type": "code",
   "execution_count": 23,
   "id": "df47e3e3",
   "metadata": {},
   "outputs": [
    {
     "name": "stdout",
     "output_type": "stream",
     "text": [
      "2\n"
     ]
    }
   ],
   "source": [
    "a-=1\n",
    "print(a)"
   ]
  },
  {
   "cell_type": "code",
   "execution_count": 24,
   "id": "cce29747",
   "metadata": {},
   "outputs": [
    {
     "name": "stdout",
     "output_type": "stream",
     "text": [
      "1.0\n"
     ]
    }
   ],
   "source": [
    "a/=2\n",
    "print(a)"
   ]
  },
  {
   "cell_type": "code",
   "execution_count": 25,
   "id": "259ecede",
   "metadata": {},
   "outputs": [
    {
     "name": "stdout",
     "output_type": "stream",
     "text": [
      "3\n"
     ]
    }
   ],
   "source": [
    "a=10\n",
    "a//=3\n",
    "print(a)"
   ]
  },
  {
   "cell_type": "markdown",
   "id": "971d6440",
   "metadata": {},
   "source": [
    "### Comparison oeprator"
   ]
  },
  {
   "cell_type": "code",
   "execution_count": 26,
   "id": "a4fe81c0",
   "metadata": {},
   "outputs": [],
   "source": [
    "a = 2\n",
    "b = 3\n",
    "c = 10\n",
    "d = 20\n"
   ]
  },
  {
   "cell_type": "code",
   "execution_count": 27,
   "id": "fcaa1be8",
   "metadata": {},
   "outputs": [
    {
     "name": "stdout",
     "output_type": "stream",
     "text": [
      "False\n",
      "True\n",
      "False\n",
      "True\n"
     ]
    }
   ],
   "source": [
    "print(a>b)\n",
    "print(a<b)\n",
    "print(a>=b)\n",
    "print(a<=b)"
   ]
  },
  {
   "cell_type": "code",
   "execution_count": 28,
   "id": "61b90e3c",
   "metadata": {},
   "outputs": [
    {
     "name": "stdout",
     "output_type": "stream",
     "text": [
      "True\n",
      "False\n"
     ]
    }
   ],
   "source": [
    "print(a!=b)\n",
    "print(a==b)"
   ]
  },
  {
   "cell_type": "code",
   "execution_count": 29,
   "id": "8f9185e5",
   "metadata": {},
   "outputs": [
    {
     "name": "stdout",
     "output_type": "stream",
     "text": [
      "False\n",
      "True\n",
      "False\n"
     ]
    }
   ],
   "source": [
    "# a = 2\n",
    "# b = 3\n",
    "# c = 10\n",
    "# d = 20\n",
    "\n",
    "print (((a > b) and (c < d)))\n",
    "print (((a > b) or (c < d)))\n",
    "print (( not (c < d)))"
   ]
  },
  {
   "cell_type": "code",
   "execution_count": 30,
   "id": "35215c8d",
   "metadata": {},
   "outputs": [
    {
     "name": "stdout",
     "output_type": "stream",
     "text": [
      "False\n"
     ]
    }
   ],
   "source": [
    "print (((a > b) and (c < d))) "
   ]
  },
  {
   "cell_type": "markdown",
   "id": "aa0b8cd9",
   "metadata": {},
   "source": [
    "### Conditional statement"
   ]
  },
  {
   "cell_type": "code",
   "execution_count": 31,
   "id": "82e23e2b",
   "metadata": {},
   "outputs": [
    {
     "name": "stdout",
     "output_type": "stream",
     "text": [
      "welcome attendee\n"
     ]
    }
   ],
   "source": [
    "# If Else anb elif condition.\n",
    "\n",
    "name = \"danish\"\n",
    "\n",
    "if name == \"monal\":\n",
    "    print(\"Welcome instructor\")\n",
    "else :\n",
    "    print(\"welcome attendee\")\n"
   ]
  },
  {
   "cell_type": "code",
   "execution_count": 32,
   "id": "160204a3",
   "metadata": {},
   "outputs": [
    {
     "name": "stdout",
     "output_type": "stream",
     "text": [
      "We are adding 2 numbers\n",
      "5\n"
     ]
    }
   ],
   "source": [
    "\n",
    "operation_name = \"add\"\n",
    "\n",
    "if operation_name == \"add\":\n",
    "    print(\"We are adding 2 numbers\")\n",
    "    print(2+3)\n",
    "else :\n",
    "    print(\"we are not adding anything\")\n"
   ]
  },
  {
   "cell_type": "code",
   "execution_count": 33,
   "id": "236187ae",
   "metadata": {},
   "outputs": [
    {
     "name": "stdout",
     "output_type": "stream",
     "text": [
      "We are adding   numbers\n",
      "5\n"
     ]
    }
   ],
   "source": [
    "\n",
    "operation_name = \"add\"\n",
    "\n",
    "if operation_name == \"add\":\n",
    "    print(\"We are adding   numbers\")\n",
    "    print(2+3)\n",
    "else :\n",
    "    print(\"we are not adding anything\")\n"
   ]
  },
  {
   "cell_type": "code",
   "execution_count": 34,
   "id": "1e8a9812",
   "metadata": {},
   "outputs": [
    {
     "name": "stdout",
     "output_type": "stream",
     "text": [
      "We are adding 2 numbers\n",
      "5\n"
     ]
    }
   ],
   "source": [
    "\n",
    "operation_name = \"add\"\n",
    "\n",
    "if operation_name == \"add\":\n",
    "    print(\"We are adding 2 numbers\")\n",
    "    print(2+3)\n",
    "else :\n",
    "    print(\"we are not adding anything\")\n"
   ]
  },
  {
   "cell_type": "code",
   "execution_count": 35,
   "id": "c6f6f07c",
   "metadata": {},
   "outputs": [
    {
     "name": "stdout",
     "output_type": "stream",
     "text": [
      "before contril flow\n",
      "we are not adding anything\n",
      "after control flow\n"
     ]
    }
   ],
   "source": [
    "\n",
    "operation_name = \"devide\"\n",
    "\n",
    "print(\"before contril flow\")\n",
    "\n",
    "if operation_name == \"add\":\n",
    "    print(\"We are adding 2 numbers\")\n",
    "elif operation_name == \"subtract\":\n",
    "    print(\"we are subtractimng 2 numbers\")\n",
    "else :\n",
    "    print(\"we are not adding anything\")\n",
    "\n",
    "print(\"after control flow\")\n"
   ]
  },
  {
   "cell_type": "code",
   "execution_count": 39,
   "id": "9740b07c",
   "metadata": {},
   "outputs": [
    {
     "name": "stdout",
     "output_type": "stream",
     "text": [
      "function not available\n"
     ]
    }
   ],
   "source": [
    "operation_name = \"addrf\"\n",
    "\n",
    "if operation_name == \"add\":\n",
    "    print(\"add\")\n",
    "elif operation_name == \"subtract\":\n",
    "    prnt(\"subtract\")\n",
    "elif operation_name == \"multiply\":\n",
    "    print(\"multiply\")\n",
    "elif operation_name == \"division\":\n",
    "    print(\"division\")\n",
    "else:\n",
    "    print(\"function not available\")"
   ]
  },
  {
   "cell_type": "code",
   "execution_count": null,
   "id": "4d7654a8",
   "metadata": {},
   "outputs": [],
   "source": []
  },
  {
   "cell_type": "code",
   "execution_count": null,
   "id": "5c2fcc90",
   "metadata": {},
   "outputs": [],
   "source": []
  }
 ],
 "metadata": {
  "kernelspec": {
   "display_name": "Python 3",
   "language": "python",
   "name": "python3"
  },
  "language_info": {
   "codemirror_mode": {
    "name": "ipython",
    "version": 3
   },
   "file_extension": ".py",
   "mimetype": "text/x-python",
   "name": "python",
   "nbconvert_exporter": "python",
   "pygments_lexer": "ipython3",
   "version": "3.12.0"
  }
 },
 "nbformat": 4,
 "nbformat_minor": 5
}
