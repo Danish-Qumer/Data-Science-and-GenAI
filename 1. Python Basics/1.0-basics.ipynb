{
 "cells": [
  {
   "cell_type": "code",
   "execution_count": 8,
   "id": "2866849b",
   "metadata": {},
   "outputs": [
    {
     "data": {
      "text/plain": [
       "2"
      ]
     },
     "execution_count": 8,
     "metadata": {},
     "output_type": "execute_result"
    }
   ],
   "source": [
    "1+1"
   ]
  },
  {
   "cell_type": "code",
   "execution_count": 3,
   "id": "0d66ae13",
   "metadata": {},
   "outputs": [
    {
     "name": "stdout",
     "output_type": "stream",
     "text": [
      "add\n"
     ]
    }
   ],
   "source": [
    "operation_name = \"add\"\n",
    "\n",
    "if operation_name == \"add\":\n",
    "    print(\"add\")\n",
    "elif operation_name == \"subtract\":\n",
    "    prnt(\"subtract\")\n",
    "elif operation_name == \"multiply\":\n",
    "    print(\"multiply\")\n",
    "elif operation_name == \"division\":\n",
    "    print(\"division\")\n",
    "else:\n",
    "    print(\"function not available\")"
   ]
  },
  {
   "cell_type": "code",
   "execution_count": 9,
   "id": "3cc7c9fe",
   "metadata": {},
   "outputs": [],
   "source": [
    "## Basic syntex - \n",
    "# hello today i am learning python\n"
   ]
  },
  {
   "cell_type": "code",
   "execution_count": null,
   "id": "f4bfc2e2",
   "metadata": {},
   "outputs": [],
   "source": [
    "first_name=\"qumer\"\n",
    "last_name=\"danish\""
   ]
  },
  {
   "cell_type": "code",
   "execution_count": 12,
   "id": "d6c9f344",
   "metadata": {},
   "outputs": [
    {
     "name": "stdout",
     "output_type": "stream",
     "text": [
      "qumer\n"
     ]
    }
   ],
   "source": [
    "print(first_name)"
   ]
  },
  {
   "cell_type": "code",
   "execution_count": 13,
   "id": "2a121f63",
   "metadata": {},
   "outputs": [
    {
     "data": {
      "text/plain": [
       "str"
      ]
     },
     "execution_count": 13,
     "metadata": {},
     "output_type": "execute_result"
    }
   ],
   "source": [
    "type(first_name)"
   ]
  },
  {
   "cell_type": "code",
   "execution_count": 3,
   "id": "ba10bf1c",
   "metadata": {},
   "outputs": [
    {
     "name": "stdout",
     "output_type": "stream",
     "text": [
      "Sum: 35.0\n",
      "Difference: -5.0\n",
      "Product; 300.0\n",
      "Quotient 0.75\n"
     ]
    }
   ],
   "source": [
    "### Simple calculator \n",
    "num1 = float(input(\"Enter first name: \"))\n",
    "num2 = float(input(\"Enter second: \"))\n",
    "\n",
    "sum = num1 + num2\n",
    "difference = num1 - num2\n",
    "product = num1 * num2\n",
    "quotient = num1 / num2\n",
    "print(\"Sum:\", sum)\n",
    "print(\"Difference:\", difference)\n",
    "print(\"Product;\", product)\n",
    "print(\"Quotient\", quotient)\n"
   ]
  },
  {
   "cell_type": "code",
   "execution_count": null,
   "id": "2bbb761a",
   "metadata": {},
   "outputs": [],
   "source": []
  },
  {
   "cell_type": "code",
   "execution_count": null,
   "id": "ca5c0410",
   "metadata": {},
   "outputs": [],
   "source": []
  },
  {
   "cell_type": "markdown",
   "id": "fe0d2b30",
   "metadata": {},
   "source": [
    "To run the cell: Shift+Enter"
   ]
  },
  {
   "cell_type": "markdown",
   "id": "c9a4e0a3",
   "metadata": {},
   "source": [
    "#### This is the first topic in python\n",
    "\n"
   ]
  },
  {
   "cell_type": "markdown",
   "id": "0940dc5a",
   "metadata": {},
   "source": [
    "In this we will learnb about python basics"
   ]
  },
  {
   "cell_type": "markdown",
   "id": "2eedf045",
   "metadata": {},
   "source": [
    "To run cell : Shift + Enter"
   ]
  }
 ],
 "metadata": {
  "kernelspec": {
   "display_name": "Python 3",
   "language": "python",
   "name": "python3"
  },
  "language_info": {
   "codemirror_mode": {
    "name": "ipython",
    "version": 3
   },
   "file_extension": ".py",
   "mimetype": "text/x-python",
   "name": "python",
   "nbconvert_exporter": "python",
   "pygments_lexer": "ipython3",
   "version": "3.12.0"
  }
 },
 "nbformat": 4,
 "nbformat_minor": 5
}
