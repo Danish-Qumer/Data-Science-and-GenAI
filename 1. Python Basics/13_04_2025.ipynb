{
 "cells": [
  {
   "cell_type": "markdown",
   "id": "bd8292d5",
   "metadata": {},
   "source": [
    "# Loops & Function"
   ]
  },
  {
   "cell_type": "code",
   "execution_count": 1,
   "id": "09d73c31",
   "metadata": {},
   "outputs": [
    {
     "name": "stdout",
     "output_type": "stream",
     "text": [
      "2\n",
      "4\n",
      "6\n",
      "8\n",
      "10\n",
      "12\n",
      "14\n",
      "16\n",
      "18\n",
      "20\n"
     ]
    }
   ],
   "source": [
    "table_till = [1,2,3,4,5,6,7,8,9,10]\n",
    " \n",
    "for i in table_till:\n",
    "    print(2*i)"
   ]
  },
  {
   "cell_type": "code",
   "execution_count": null,
   "id": "fabc24e9",
   "metadata": {},
   "outputs": [
    {
     "name": "stdout",
     "output_type": "stream",
     "text": [
      "2\n",
      "4\n",
      "6\n",
      "8\n",
      "10\n",
      "12\n",
      "14\n",
      "16\n",
      "18\n",
      "20\n"
     ]
    }
   ],
   "source": [
    "for i in range (1,11,1):\n",
    "    print(2*i)"
   ]
  },
  {
   "cell_type": "code",
   "execution_count": 5,
   "id": "ad2975ca",
   "metadata": {},
   "outputs": [
    {
     "name": "stdout",
     "output_type": "stream",
     "text": [
      "2\n",
      "10\n",
      "18\n",
      "26\n"
     ]
    }
   ],
   "source": [
    "for i in range (1,15,4):\n",
    "    print(2*i)"
   ]
  },
  {
   "cell_type": "code",
   "execution_count": 6,
   "id": "6765df71",
   "metadata": {},
   "outputs": [
    {
     "name": "stdout",
     "output_type": "stream",
     "text": [
      "1\n",
      "5\n",
      "9\n",
      "13\n"
     ]
    }
   ],
   "source": [
    "for i in range (1,15,4):\n",
    "    print(i)"
   ]
  },
  {
   "cell_type": "code",
   "execution_count": 9,
   "id": "0a501069",
   "metadata": {},
   "outputs": [
    {
     "name": "stdout",
     "output_type": "stream",
     "text": [
      "2\n",
      "8\n",
      "14\n"
     ]
    }
   ],
   "source": [
    "for element in range (1,10,3):\n",
    "    print(2*element)"
   ]
  },
  {
   "cell_type": "code",
   "execution_count": 11,
   "id": "c3e9465e",
   "metadata": {},
   "outputs": [
    {
     "name": "stdout",
     "output_type": "stream",
     "text": [
      "1\n",
      "4\n",
      "7\n"
     ]
    }
   ],
   "source": [
    "for element in range (1,10,3):\n",
    "    print(element)"
   ]
  },
  {
   "cell_type": "code",
   "execution_count": 2,
   "id": "6a59deba",
   "metadata": {},
   "outputs": [
    {
     "name": "stdout",
     "output_type": "stream",
     "text": [
      "0\n",
      "1\n",
      "2\n",
      "3\n",
      "4\n",
      "5\n",
      "6\n",
      "7\n",
      "8\n",
      "9\n"
     ]
    }
   ],
   "source": [
    "for element in range (0,10,):\n",
    "    print(element)\n",
    "\n",
    "# 0 is start by default\n",
    "# 1 is step size by default"
   ]
  },
  {
   "cell_type": "code",
   "execution_count": 1,
   "id": "b3c00d73",
   "metadata": {},
   "outputs": [
    {
     "name": "stdout",
     "output_type": "stream",
     "text": [
      "10\n",
      "9\n",
      "8\n",
      "7\n",
      "6\n",
      "5\n",
      "4\n",
      "3\n",
      "2\n",
      "1\n"
     ]
    }
   ],
   "source": [
    "for i in range (10,0,-1):\n",
    "    print(i)"
   ]
  },
  {
   "cell_type": "code",
   "execution_count": 8,
   "id": "d75fdae7",
   "metadata": {},
   "outputs": [],
   "source": [
    "emp_details = {\n",
    "               1  : [\"monal\", \"india\"],\n",
    "               2  : [\"lucas\", \"brazil\"],\n",
    "               3  : [\"ashrar\", \"Saudi arbia\", 2],\n",
    "               4  : [\"riyan\", \"india\"],\n",
    "               \"hello\" : \"hello\"\n",
    "               }"
   ]
  },
  {
   "cell_type": "code",
   "execution_count": 20,
   "id": "9fe1c140",
   "metadata": {},
   "outputs": [
    {
     "data": {
      "text/plain": [
       "['ashrar', 'Saudi arbia', 2]"
      ]
     },
     "execution_count": 20,
     "metadata": {},
     "output_type": "execute_result"
    }
   ],
   "source": [
    "emp_details[3]"
   ]
  },
  {
   "cell_type": "code",
   "execution_count": 3,
   "id": "ecf061db",
   "metadata": {},
   "outputs": [
    {
     "data": {
      "text/plain": [
       "dict_keys([1, 2, 3, 4])"
      ]
     },
     "execution_count": 3,
     "metadata": {},
     "output_type": "execute_result"
    }
   ],
   "source": [
    "emp_details.keys()"
   ]
  },
  {
   "cell_type": "code",
   "execution_count": 9,
   "id": "41770df4",
   "metadata": {},
   "outputs": [
    {
     "name": "stdout",
     "output_type": "stream",
     "text": [
      "['monal', 'india']\n",
      "['lucas', 'brazil']\n",
      "['ashrar', 'Saudi arbia', 2]\n",
      "['riyan', 'india']\n",
      "hello\n"
     ]
    }
   ],
   "source": [
    "for value in emp_details.keys():\n",
    "    print(emp_details[value])"
   ]
  },
  {
   "cell_type": "markdown",
   "id": "0aec4cc0",
   "metadata": {},
   "source": [
    "# print statement"
   ]
  },
  {
   "cell_type": "code",
   "execution_count": 10,
   "id": "22ec6e37",
   "metadata": {},
   "outputs": [
    {
     "name": "stdout",
     "output_type": "stream",
     "text": [
      "hello\n"
     ]
    }
   ],
   "source": [
    "print(\"hello\")"
   ]
  },
  {
   "cell_type": "code",
   "execution_count": 11,
   "id": "99c4eee9",
   "metadata": {},
   "outputs": [
    {
     "name": "stdout",
     "output_type": "stream",
     "text": [
      "hello hi\n"
     ]
    }
   ],
   "source": [
    "print(\"hello\", \"hi\")"
   ]
  },
  {
   "cell_type": "code",
   "execution_count": 15,
   "id": "1a5eeefc",
   "metadata": {},
   "outputs": [
    {
     "name": "stdout",
     "output_type": "stream",
     "text": [
      "hello  hi\n"
     ]
    }
   ],
   "source": [
    "print(\"hello\", end='  ')\n",
    "print('hi')"
   ]
  },
  {
   "cell_type": "code",
   "execution_count": 23,
   "id": "a72418de",
   "metadata": {},
   "outputs": [
    {
     "name": "stdout",
     "output_type": "stream",
     "text": [
      "hello\n",
      "hi\n"
     ]
    }
   ],
   "source": [
    "print(\"hello\", end=\"\\n\")\n",
    "print(\"hi\")"
   ]
  },
  {
   "cell_type": "code",
   "execution_count": 26,
   "id": "ab05e912",
   "metadata": {},
   "outputs": [
    {
     "name": "stdout",
     "output_type": "stream",
     "text": [
      "hello hi 1 2hi\n",
      "hi\n"
     ]
    }
   ],
   "source": [
    "print(\"hello\", \"hi\", 1 ,2, end=\"\")\n",
    "print(\"hi\")\n",
    "print(\"hi\")"
   ]
  },
  {
   "cell_type": "code",
   "execution_count": 21,
   "id": "ccbff44f",
   "metadata": {},
   "outputs": [
    {
     "name": "stdout",
     "output_type": "stream",
     "text": [
      "hello\thi\n"
     ]
    }
   ],
   "source": [
    "print(\"hello\", end=\"\\t\")\n",
    "print('hi')"
   ]
  },
  {
   "cell_type": "code",
   "execution_count": null,
   "id": "5e0f5ece",
   "metadata": {},
   "outputs": [],
   "source": [
    "'''\n",
    "*\n",
    "**\n",
    "***\n",
    "****\n",
    "*****\n",
    "'''"
   ]
  },
  {
   "cell_type": "code",
   "execution_count": null,
   "id": "f9a91126",
   "metadata": {},
   "outputs": [
    {
     "name": "stdout",
     "output_type": "stream",
     "text": [
      "*\n",
      "**\n",
      "***\n",
      "****\n",
      "*****\n"
     ]
    }
   ],
   "source": [
    "for i in range(1,6):\n",
    "    print(\"*\"*i)"
   ]
  },
  {
   "cell_type": "code",
   "execution_count": 31,
   "id": "b75af916",
   "metadata": {},
   "outputs": [
    {
     "name": "stdout",
     "output_type": "stream",
     "text": [
      "*\n",
      "***\n",
      "*****\n"
     ]
    }
   ],
   "source": [
    "'''\n",
    "*\n",
    "***\n",
    "*****\n",
    "'''\n",
    "for i in range(1,6,2):\n",
    "    print(\"*\"*i)"
   ]
  },
  {
   "cell_type": "code",
   "execution_count": 39,
   "id": "2d0b1e22",
   "metadata": {},
   "outputs": [
    {
     "name": "stdout",
     "output_type": "stream",
     "text": [
      "--*\n",
      "-**\n",
      "***\n"
     ]
    }
   ],
   "source": [
    "'''\n",
    "--*\n",
    "-**\n",
    "***\n",
    "'''\n",
    "'''rows = 3\n",
    "for i in range(1, rows + 1):\n",
    "    dashes = '-' * (rows - i)\n",
    "    stars = '*' * i\n",
    "    print(dashes + stars)'''\n",
    "\n",
    "max = 3\n",
    "for i in range(2, -1, -1):\n",
    "    print(i*\"-\",end=\"\")\n",
    "    print((max-i)*\"*\")"
   ]
  },
  {
   "cell_type": "code",
   "execution_count": 7,
   "id": "3f3236a9",
   "metadata": {},
   "outputs": [],
   "source": [
    "levels = 4  # number of levels in the Galton board\n",
    "dots = []\n",
    "\n",
    "for level in range(levels + 1):\n",
    "    for pos in range(level + 1):\n",
    "        x = pos - level / 2\n",
    "        y = -level\n",
    "        dots.append((x, y))"
   ]
  },
  {
   "cell_type": "code",
   "execution_count": 6,
   "id": "4520bfab",
   "metadata": {},
   "outputs": [
    {
     "name": "stdout",
     "output_type": "stream",
     "text": [
      "--*\n",
      "-**\n",
      "***\n"
     ]
    }
   ],
   "source": [
    "max = 3\n",
    "for i in range(2, -1, -1):\n",
    "    print(i*\"-\", end=\"\")\n",
    "    print((max-i)*\"*\")"
   ]
  },
  {
   "cell_type": "code",
   "execution_count": null,
   "id": "f7d83bb1",
   "metadata": {},
   "outputs": [
    {
     "name": "stdout",
     "output_type": "stream",
     "text": [
      "--*\n"
     ]
    }
   ],
   "source": [
    "max = 3\n",
    "number_of_dash = 2\n",
    "print(number_of_dash*\"-\",end=\"\")\n",
    "print((max-number_of_dash)*\"*\")"
   ]
  },
  {
   "cell_type": "code",
   "execution_count": 9,
   "id": "eda1450c",
   "metadata": {},
   "outputs": [
    {
     "name": "stdout",
     "output_type": "stream",
     "text": [
      "-**\n"
     ]
    }
   ],
   "source": [
    "max = 3\n",
    "number_of_dash = 1\n",
    "print(number_of_dash*\"-\",end=\"\")\n",
    "print((max-number_of_dash)*\"*\")"
   ]
  },
  {
   "cell_type": "code",
   "execution_count": 10,
   "id": "a7b5f69f",
   "metadata": {},
   "outputs": [
    {
     "name": "stdout",
     "output_type": "stream",
     "text": [
      "***\n"
     ]
    }
   ],
   "source": [
    "max = 3\n",
    "number_of_dash = 0\n",
    "print(number_of_dash*\"-\",end=\"\")\n",
    "print((max-number_of_dash)*\"*\")"
   ]
  },
  {
   "cell_type": "code",
   "execution_count": 15,
   "id": "7993f117",
   "metadata": {},
   "outputs": [
    {
     "name": "stdout",
     "output_type": "stream",
     "text": [
      "--*\n",
      "-**\n",
      "***\n"
     ]
    }
   ],
   "source": [
    "max = 3\n",
    "for i in range(2,-1,-1):\n",
    "    print(i*\"-\",end=\"\")\n",
    "    print((max-i)*\"*\")\n"
   ]
  },
  {
   "cell_type": "code",
   "execution_count": 2,
   "id": "53a81f3b",
   "metadata": {},
   "outputs": [
    {
     "name": "stdout",
     "output_type": "stream",
     "text": [
      "student id :  1\n",
      "student id :  2\n",
      "student id :  3\n",
      "student id :  4\n",
      "student id :  5\n",
      "student id :  7\n",
      "student id :  8\n",
      "student id :  9\n",
      "student id :  10\n"
     ]
    }
   ],
   "source": [
    "# problem statement\n",
    "# there is a defaulter which we dont want to include for the attendence\n",
    "\n",
    "student_id = 6\n",
    "for i in range(1, 11):\n",
    "    if i == student_id:\n",
    "        continue\n",
    "    print(\"student id : \", i)\n",
    "\n",
    "\n"
   ]
  },
  {
   "cell_type": "code",
   "execution_count": 6,
   "id": "c43a295b",
   "metadata": {},
   "outputs": [
    {
     "name": "stdout",
     "output_type": "stream",
     "text": [
      "student id :  1\n",
      "student id :  2\n",
      "student id :  3\n",
      "student id :  4\n",
      "student id :  5\n",
      "student id :  7\n",
      "student id :  8\n",
      "student id :  9\n",
      "student id :  10\n"
     ]
    }
   ],
   "source": [
    "student_id = 6\n",
    "for i in range(1, 11):\n",
    "    if i != student_id:\n",
    "        print(\"student id : \", i)"
   ]
  },
  {
   "cell_type": "code",
   "execution_count": 7,
   "id": "384f9968",
   "metadata": {},
   "outputs": [
    {
     "name": "stdout",
     "output_type": "stream",
     "text": [
      "student ids :  1\n",
      "student ids :  2\n",
      "student ids :  3\n",
      "student ids :  4\n",
      "student ids :  5\n",
      "student ids :  6\n",
      "student ids :  7\n",
      "student ids :  8\n",
      "student ids :  9\n",
      "student ids :  10\n"
     ]
    }
   ],
   "source": [
    "student_ids = [1,6,7,8]\n",
    "for i in range(1, 11):\n",
    "    if i == student_ids:\n",
    "        continue\n",
    "    print(\"student ids : \", i)"
   ]
  },
  {
   "cell_type": "code",
   "execution_count": 8,
   "id": "f7b27018",
   "metadata": {},
   "outputs": [
    {
     "name": "stdout",
     "output_type": "stream",
     "text": [
      "student ids :  2\n",
      "student ids :  3\n",
      "student ids :  4\n",
      "student ids :  5\n",
      "student ids :  9\n",
      "student ids :  10\n"
     ]
    }
   ],
   "source": [
    "student_ids = [1,6,7,8]\n",
    "for i in range(1, 11):\n",
    "    if i in student_ids:\n",
    "        continue\n",
    "    print(\"student ids : \", i)"
   ]
  },
  {
   "cell_type": "code",
   "execution_count": 11,
   "id": "c591a0df",
   "metadata": {},
   "outputs": [
    {
     "name": "stdout",
     "output_type": "stream",
     "text": [
      "student id :  1\n",
      "student id :  2\n"
     ]
    }
   ],
   "source": [
    "student_id = 3\n",
    "for i in range(1, 11):\n",
    "    if i == student_id:\n",
    "       break\n",
    "    print(\"student id : \", i)"
   ]
  },
  {
   "cell_type": "code",
   "execution_count": null,
   "id": "f16b3a56",
   "metadata": {},
   "outputs": [],
   "source": []
  },
  {
   "cell_type": "code",
   "execution_count": null,
   "id": "c36ef611",
   "metadata": {},
   "outputs": [],
   "source": []
  },
  {
   "cell_type": "code",
   "execution_count": null,
   "id": "08f4053d",
   "metadata": {},
   "outputs": [],
   "source": []
  },
  {
   "cell_type": "code",
   "execution_count": null,
   "id": "7ab25843",
   "metadata": {},
   "outputs": [],
   "source": []
  },
  {
   "cell_type": "code",
   "execution_count": null,
   "id": "2745fba1",
   "metadata": {},
   "outputs": [],
   "source": []
  },
  {
   "cell_type": "code",
   "execution_count": null,
   "id": "a1ef0f0c",
   "metadata": {},
   "outputs": [],
   "source": []
  }
 ],
 "metadata": {
  "kernelspec": {
   "display_name": "Python 3",
   "language": "python",
   "name": "python3"
  },
  "language_info": {
   "codemirror_mode": {
    "name": "ipython",
    "version": 3
   },
   "file_extension": ".py",
   "mimetype": "text/x-python",
   "name": "python",
   "nbconvert_exporter": "python",
   "pygments_lexer": "ipython3",
   "version": "3.12.0"
  }
 },
 "nbformat": 4,
 "nbformat_minor": 5
}
