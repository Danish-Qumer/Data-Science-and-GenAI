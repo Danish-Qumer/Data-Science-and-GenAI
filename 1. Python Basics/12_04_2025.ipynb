{
 "cells": [
  {
   "cell_type": "markdown",
   "id": "0763eda7",
   "metadata": {},
   "source": [
    "# Advance Data Structure\n",
    "### "
   ]
  },
  {
   "cell_type": "code",
   "execution_count": null,
   "id": "9bfd4f94",
   "metadata": {},
   "outputs": [],
   "source": []
  },
  {
   "cell_type": "code",
   "execution_count": 16,
   "id": "09104fbb",
   "metadata": {},
   "outputs": [
    {
     "data": {
      "text/plain": [
       "'0x7ffa4bb44a18'"
      ]
     },
     "execution_count": 16,
     "metadata": {},
     "output_type": "execute_result"
    }
   ],
   "source": [
    "a = a+1\n",
    "hex(id(a))"
   ]
  },
  {
   "cell_type": "code",
   "execution_count": 17,
   "id": "61b491ac",
   "metadata": {},
   "outputs": [
    {
     "data": {
      "text/plain": [
       "'0x1f93dfc6f40'"
      ]
     },
     "execution_count": 17,
     "metadata": {},
     "output_type": "execute_result"
    }
   ],
   "source": [
    "a = [1,2]\n",
    "hex(id(a))"
   ]
  },
  {
   "cell_type": "code",
   "execution_count": 18,
   "id": "23cf773d",
   "metadata": {},
   "outputs": [
    {
     "data": {
      "text/plain": [
       "'0x1f93dfc6f40'"
      ]
     },
     "execution_count": 18,
     "metadata": {},
     "output_type": "execute_result"
    }
   ],
   "source": [
    "a.append(3)\n",
    "hex(id(a))"
   ]
  },
  {
   "cell_type": "code",
   "execution_count": 19,
   "id": "958d8cd1",
   "metadata": {},
   "outputs": [
    {
     "name": "stdout",
     "output_type": "stream",
     "text": [
      "[1, 2, 3]\n"
     ]
    }
   ],
   "source": [
    "print(a)"
   ]
  },
  {
   "cell_type": "code",
   "execution_count": 20,
   "id": "506f4af8",
   "metadata": {},
   "outputs": [
    {
     "name": "stdout",
     "output_type": "stream",
     "text": [
      "['hello', 'name', 'id']\n"
     ]
    }
   ],
   "source": [
    "a = [\"bio\",\"name\",\"id\"]\n",
    "a[0] = \"hello\"\n",
    "print(a)"
   ]
  },
  {
   "cell_type": "code",
   "execution_count": null,
   "id": "002efa26",
   "metadata": {},
   "outputs": [
    {
     "name": "stdout",
     "output_type": "stream",
     "text": [
      "('bio', 'name', 'id')\n"
     ]
    },
    {
     "data": {
      "text/plain": [
       "'0x1f93e002e80'"
      ]
     },
     "execution_count": 26,
     "metadata": {},
     "output_type": "execute_result"
    }
   ],
   "source": [
    "a = (\"bio\",\"name\",\"id\")\n",
    "#a[0] = \"hello\"\n",
    "print(a)\n",
    "hex(id(a))"
   ]
  },
  {
   "cell_type": "code",
   "execution_count": 22,
   "id": "e3fe280d",
   "metadata": {},
   "outputs": [
    {
     "name": "stdout",
     "output_type": "stream",
     "text": [
      "['hello', 'name', 'id']\n",
      "<class 'list'>\n"
     ]
    },
    {
     "data": {
      "text/plain": [
       "'0x1f93e00d1c0'"
      ]
     },
     "execution_count": 22,
     "metadata": {},
     "output_type": "execute_result"
    }
   ],
   "source": [
    "b = list(a)\n",
    "print(b)\n",
    "print(type(b))\n",
    "hex(id(b))"
   ]
  },
  {
   "cell_type": "code",
   "execution_count": 27,
   "id": "2e167531",
   "metadata": {},
   "outputs": [
    {
     "data": {
      "text/plain": [
       "'0x1f93df368c0'"
      ]
     },
     "execution_count": 27,
     "metadata": {},
     "output_type": "execute_result"
    }
   ],
   "source": [
    "a = [\"bio\",\"name\",\"id\",[1,2],\"hello\"]\n",
    "type(a)\n",
    "hex(id(a))"
   ]
  },
  {
   "cell_type": "code",
   "execution_count": 1,
   "id": "4354982c",
   "metadata": {},
   "outputs": [
    {
     "name": "stdout",
     "output_type": "stream",
     "text": [
      "[2, 1, 3, 5, 6]\n",
      "[2, 1, 3, 5, 6, 10]\n"
     ]
    }
   ],
   "source": [
    " # ordered \n",
    "a = [2,1,3,5,6]\n",
    "print(a)\n",
    "a.append(10)\n",
    "print(a)"
   ]
  },
  {
   "cell_type": "code",
   "execution_count": 4,
   "id": "e1694e3d",
   "metadata": {},
   "outputs": [
    {
     "name": "stdout",
     "output_type": "stream",
     "text": [
      "{0, 1, 2, 3, 5, 6, 'add'}\n"
     ]
    }
   ],
   "source": [
    " # un-ordered (set)\n",
    "a = {2,1,3,5,6,2,2, \"add\"}\n",
    "a.add(0)\n",
    "print(a)"
   ]
  },
  {
   "cell_type": "markdown",
   "id": "1fc9a2c3",
   "metadata": {},
   "source": [
    "# More functions of list and set"
   ]
  },
  {
   "cell_type": "code",
   "execution_count": null,
   "id": "64e3e6d9",
   "metadata": {},
   "outputs": [
    {
     "name": "stdout",
     "output_type": "stream",
     "text": [
      "[0, 1, 2, 3, 33, 453, 'add', 445455]\n"
     ]
    }
   ],
   "source": [
    "# This code will reove duplicate from list using set\n",
    "\n",
    "a = [1,2,3,445455,33,33,33,33,453,0,0,0,0, \"add\"]\n",
    "\n",
    "# method 1\n",
    "a = set(a)\n",
    "a = list(a)\n",
    "\n",
    "\n",
    "# method 2\n",
    "a = list(set(a))\n",
    "print(a)"
   ]
  },
  {
   "cell_type": "code",
   "execution_count": 10,
   "id": "db3645bb",
   "metadata": {},
   "outputs": [
    {
     "name": "stdout",
     "output_type": "stream",
     "text": [
      "2133733526784\n",
      "[1, 2, 3, 'hello', 'hi']\n",
      "2133733439232\n"
     ]
    }
   ],
   "source": [
    "# Extend (List)\n",
    "a = [1,2,3]\n",
    "print(id(a))\n",
    "b = [\"hello\", \"hi\"]\n",
    "a = a + b\n",
    "print(a)\n",
    "print(id(a))"
   ]
  },
  {
   "cell_type": "code",
   "execution_count": null,
   "id": "6f0c1130",
   "metadata": {},
   "outputs": [
    {
     "name": "stdout",
     "output_type": "stream",
     "text": [
      "2133733536896\n",
      "[1, 2, 3, ['hello', 'hi']]\n",
      "2133733536896\n"
     ]
    }
   ],
   "source": [
    "# Extend (List) (wrong)\n",
    "a = [1,2,3]\n",
    "print(id(a))\n",
    "b = [\"hello\", \"hi\"]\n",
    "a.append(b)\n",
    "print(a)\n",
    "print(id(a))"
   ]
  },
  {
   "cell_type": "code",
   "execution_count": null,
   "id": "62a0e831",
   "metadata": {},
   "outputs": [
    {
     "name": "stdout",
     "output_type": "stream",
     "text": [
      "2133733477632\n",
      "2133733477632\n",
      "[1, 2, 3, 'hello', 'hi']\n"
     ]
    }
   ],
   "source": [
    "# Extend (List) \n",
    "a = [1,2,3]\n",
    "b = [\"hello\", \"hi\"]\n",
    "print(id(a))\n",
    "a.extend(b)\n",
    "print(id(a))\n",
    "print(a)"
   ]
  },
  {
   "cell_type": "code",
   "execution_count": null,
   "id": "0452bdeb",
   "metadata": {},
   "outputs": [
    {
     "name": "stdout",
     "output_type": "stream",
     "text": [
      "2133732518464\n",
      "2133732518464\n",
      "{1, 2, 3, 'hello', 'hi'}\n"
     ]
    }
   ],
   "source": [
    "# Update \n",
    "\n",
    "a = {1,2,3}\n",
    "b = {\"hello\", \"hi\"}\n",
    "print(id(a))\n",
    "a.update(b)\n",
    "print(id(a))\n",
    "print(a)"
   ]
  },
  {
   "cell_type": "code",
   "execution_count": 4,
   "id": "a632c311",
   "metadata": {},
   "outputs": [],
   "source": [
    "# Task is to store employee details\n",
    "# Lets store employee details using thier id\n",
    "\n",
    "emp_details = {\n",
    "               1  : [\"monal\", \"india\"],\n",
    "               2  : [\"lucas\", \"brazil\"],\n",
    "               3  : [\"ashrar\", \"Saudi arbia\", 2],\n",
    "               4  : [\"riyan\", \"india\"]}"
   ]
  },
  {
   "cell_type": "code",
   "execution_count": 5,
   "id": "6a6c98fa",
   "metadata": {},
   "outputs": [
    {
     "data": {
      "text/plain": [
       "['riyan', 'india']"
      ]
     },
     "execution_count": 5,
     "metadata": {},
     "output_type": "execute_result"
    }
   ],
   "source": [
    "emp_details[4]"
   ]
  },
  {
   "cell_type": "code",
   "execution_count": 6,
   "id": "07fbaa4b",
   "metadata": {},
   "outputs": [
    {
     "name": "stdout",
     "output_type": "stream",
     "text": [
      "{1: ['monal', 'india'], 2: ['lucas', 'brazil'], 3: ['ashrar', 'Saudi arbia', 2], 4: ['riyan', 'india']}\n"
     ]
    }
   ],
   "source": [
    "print(emp_details)"
   ]
  },
  {
   "cell_type": "code",
   "execution_count": 8,
   "id": "557109e9",
   "metadata": {},
   "outputs": [
    {
     "data": {
      "text/plain": [
       "'riyan'"
      ]
     },
     "execution_count": 8,
     "metadata": {},
     "output_type": "execute_result"
    }
   ],
   "source": [
    "emp_details[4][0]"
   ]
  },
  {
   "cell_type": "code",
   "execution_count": 10,
   "id": "0208ec02",
   "metadata": {},
   "outputs": [],
   "source": [
    "emp_details[4][0] = \"Riyan\""
   ]
  },
  {
   "cell_type": "code",
   "execution_count": 11,
   "id": "950ff005",
   "metadata": {},
   "outputs": [
    {
     "data": {
      "text/plain": [
       "{1: ['monal', 'india'],\n",
       " 2: ['lucas', 'brazil'],\n",
       " 3: ['ashrar', 'Saudi arbia', 2],\n",
       " 4: ['Riyan', 'india']}"
      ]
     },
     "execution_count": 11,
     "metadata": {},
     "output_type": "execute_result"
    }
   ],
   "source": [
    "emp_details"
   ]
  },
  {
   "cell_type": "code",
   "execution_count": 15,
   "id": "c6a282fc",
   "metadata": {},
   "outputs": [],
   "source": [
    "emp_details = {\n",
    "              \"001\" : {\n",
    "                  \"name\" :  \"monal\",\n",
    "                  \"ph.no\" : 12233446890,\n",
    "                  \"address\" : \"india\",\n",
    "                  \"mentor_details\": {\n",
    "                  \"beginer_couirse\" : [\"data science and genai\"],\n",
    "                  \"advance_course\" : [\"computer vsion \"]\n",
    "                   \n",
    "               }\n",
    "                 },\n",
    "                 \"002\" : {\n",
    "                  \"name\" :  \"krish\",\n",
    "                  \"ph.no\" : 12233446890,\n",
    "                  \"address\" : \"india\",\n",
    "                  \"mentor_details\": {\n",
    "                  \"beginer_couirse\" : [\"everything\"],\n",
    "                  \"advance_course\" : [\"everything \"]\n",
    "                   \n",
    "            \n",
    "                  }\n",
    "                 },\n",
    "                 \"003\" : {\n",
    "                  \"name\" :  \"mayank\",\n",
    "                  \"ph.no\" : 12233446890,\n",
    "                  \"address\" : \"india\",\n",
    "                  \"mentor_details\": {\n",
    "                  \"beginer_couirse\" : [\"data sceince\"],\n",
    "                  \"advance_course\" : [\"data engineering \"]\n",
    "                   \n",
    "            \n",
    "                  },\n",
    "                  \"dummy\" : (\"M\", \"T\", \"W\")\n",
    "                 }\n",
    "\n",
    "}"
   ]
  },
  {
   "cell_type": "code",
   "execution_count": 18,
   "id": "d8aa7a52",
   "metadata": {},
   "outputs": [
    {
     "data": {
      "text/plain": [
       "{'name': 'monal',\n",
       " 'ph.no': 12233446890,\n",
       " 'address': 'india',\n",
       " 'mentor_details': {'beginer_couirse': ['data science and genai'],\n",
       "  'advance_course': ['computer vsion ']}}"
      ]
     },
     "execution_count": 18,
     "metadata": {},
     "output_type": "execute_result"
    }
   ],
   "source": [
    "emp_details[\"001\"]"
   ]
  },
  {
   "cell_type": "code",
   "execution_count": 13,
   "id": "40eb493f",
   "metadata": {},
   "outputs": [
    {
     "data": {
      "text/plain": [
       "['everything ']"
      ]
     },
     "execution_count": 13,
     "metadata": {},
     "output_type": "execute_result"
    }
   ],
   "source": [
    "emp_details[\"002\"][\"mentor_details\"][\"advance_course\"]"
   ]
  },
  {
   "cell_type": "code",
   "execution_count": 18,
   "id": "6ec91942",
   "metadata": {},
   "outputs": [
    {
     "data": {
      "text/plain": [
       "tuple"
      ]
     },
     "execution_count": 18,
     "metadata": {},
     "output_type": "execute_result"
    }
   ],
   "source": [
    "type(emp_details[\"003\"][\"dummy\"])"
   ]
  },
  {
   "cell_type": "code",
   "execution_count": 3,
   "id": "215830f2",
   "metadata": {},
   "outputs": [],
   "source": [
    "emp_details = {\n",
    "                \"001\" : [1,2,3]\n",
    "}"
   ]
  },
  {
   "cell_type": "code",
   "execution_count": 4,
   "id": "68f38ef2",
   "metadata": {},
   "outputs": [
    {
     "name": "stdout",
     "output_type": "stream",
     "text": [
      "{'001': [1, 2, 3]}\n"
     ]
    }
   ],
   "source": [
    "print(emp_details)"
   ]
  },
  {
   "cell_type": "code",
   "execution_count": 5,
   "id": "265262d7",
   "metadata": {},
   "outputs": [],
   "source": [
    "emp_details[\"003\"] = []"
   ]
  },
  {
   "cell_type": "code",
   "execution_count": 6,
   "id": "e1bddaf9",
   "metadata": {},
   "outputs": [
    {
     "name": "stdout",
     "output_type": "stream",
     "text": [
      "{'001': [1, 2, 3], '003': []}\n"
     ]
    }
   ],
   "source": [
    "print(emp_details)"
   ]
  },
  {
   "cell_type": "code",
   "execution_count": 7,
   "id": "d2604a82",
   "metadata": {},
   "outputs": [],
   "source": [
    "emp_details[\"003\"] = [1,2,3,4]"
   ]
  },
  {
   "cell_type": "code",
   "execution_count": 8,
   "id": "7ed10d2e",
   "metadata": {},
   "outputs": [
    {
     "name": "stdout",
     "output_type": "stream",
     "text": [
      "{'001': [1, 2, 3], '003': [1, 2, 3, 4]}\n"
     ]
    }
   ],
   "source": [
    "print(emp_details)"
   ]
  },
  {
   "cell_type": "code",
   "execution_count": 10,
   "id": "a6d2593c",
   "metadata": {},
   "outputs": [
    {
     "data": {
      "text/plain": [
       "dict_keys(['001', '003'])"
      ]
     },
     "execution_count": 10,
     "metadata": {},
     "output_type": "execute_result"
    }
   ],
   "source": [
    "emp_details.keys()"
   ]
  },
  {
   "cell_type": "code",
   "execution_count": 13,
   "id": "f9b07634",
   "metadata": {},
   "outputs": [
    {
     "data": {
      "text/plain": [
       "dict_keys"
      ]
     },
     "execution_count": 13,
     "metadata": {},
     "output_type": "execute_result"
    }
   ],
   "source": [
    "type(emp_details.keys())"
   ]
  },
  {
   "cell_type": "code",
   "execution_count": 14,
   "id": "cb2660ea",
   "metadata": {},
   "outputs": [
    {
     "data": {
      "text/plain": [
       "['001', '003']"
      ]
     },
     "execution_count": 14,
     "metadata": {},
     "output_type": "execute_result"
    }
   ],
   "source": [
    "list(emp_details.keys())"
   ]
  },
  {
   "cell_type": "code",
   "execution_count": 12,
   "id": "d443e3b0",
   "metadata": {},
   "outputs": [
    {
     "data": {
      "text/plain": [
       "dict_values([[1, 2, 3], [1, 2, 3, 4]])"
      ]
     },
     "execution_count": 12,
     "metadata": {},
     "output_type": "execute_result"
    }
   ],
   "source": [
    "emp_details.values()"
   ]
  },
  {
   "cell_type": "code",
   "execution_count": null,
   "id": "f77a97f6",
   "metadata": {},
   "outputs": [],
   "source": []
  },
  {
   "cell_type": "code",
   "execution_count": null,
   "id": "35899b77",
   "metadata": {},
   "outputs": [],
   "source": []
  },
  {
   "cell_type": "code",
   "execution_count": null,
   "id": "3498d484",
   "metadata": {},
   "outputs": [],
   "source": []
  }
 ],
 "metadata": {
  "kernelspec": {
   "display_name": "Python 3",
   "language": "python",
   "name": "python3"
  },
  "language_info": {
   "codemirror_mode": {
    "name": "ipython",
    "version": 3
   },
   "file_extension": ".py",
   "mimetype": "text/x-python",
   "name": "python",
   "nbconvert_exporter": "python",
   "pygments_lexer": "ipython3",
   "version": "3.12.0"
  }
 },
 "nbformat": 4,
 "nbformat_minor": 5
}
