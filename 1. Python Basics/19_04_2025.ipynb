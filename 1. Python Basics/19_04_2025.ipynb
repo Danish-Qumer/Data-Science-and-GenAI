{
 "cells": [
  {
   "cell_type": "code",
   "execution_count": null,
   "id": "2e93a714",
   "metadata": {},
   "outputs": [],
   "source": [
    "# Assi"
   ]
  },
  {
   "cell_type": "code",
   "execution_count": null,
   "id": "e45e21a5",
   "metadata": {},
   "outputs": [],
   "source": []
  },
  {
   "cell_type": "code",
   "execution_count": null,
   "id": "cd7141ea",
   "metadata": {},
   "outputs": [],
   "source": []
  },
  {
   "cell_type": "markdown",
   "id": "57ced1fa",
   "metadata": {},
   "source": [
    "### Loops and Funtion"
   ]
  },
  {
   "cell_type": "code",
   "execution_count": 4,
   "id": "df9ae585",
   "metadata": {},
   "outputs": [
    {
     "name": "stdout",
     "output_type": "stream",
     "text": [
      "0\n",
      "1\n",
      "2\n",
      "3\n",
      "4\n",
      "5\n",
      "6\n",
      "7\n",
      "8\n"
     ]
    }
   ],
   "source": [
    "i = 0 \n",
    "while i <= 8:\n",
    "    print(i)\n",
    "    i+=1\n",
    "\n",
    "    "
   ]
  },
  {
   "cell_type": "code",
   "execution_count": 5,
   "id": "fd365ef0",
   "metadata": {},
   "outputs": [
    {
     "name": "stdout",
     "output_type": "stream",
     "text": [
      "danish\n",
      "monal\n",
      "ravi\n",
      "alok\n",
      "riyan\n"
     ]
    }
   ],
   "source": [
    "while True:\n",
    "    name = input(\"Please enter your name : \")\n",
    "    if name == \"Riyan\":\n",
    "        break\n",
    "    print(name)\n"
   ]
  },
  {
   "cell_type": "markdown",
   "id": "1f4dee62",
   "metadata": {},
   "source": [
    "# 44 mnt"
   ]
  },
  {
   "cell_type": "code",
   "execution_count": null,
   "id": "1f5ca352",
   "metadata": {},
   "outputs": [],
   "source": [
    " "
   ]
  },
  {
   "cell_type": "code",
   "execution_count": null,
   "id": "7e203543",
   "metadata": {},
   "outputs": [],
   "source": []
  },
  {
   "cell_type": "code",
   "execution_count": null,
   "id": "d0a6d3d7",
   "metadata": {},
   "outputs": [],
   "source": []
  },
  {
   "cell_type": "code",
   "execution_count": null,
   "id": "ee2cd943",
   "metadata": {},
   "outputs": [],
   "source": []
  },
  {
   "cell_type": "code",
   "execution_count": null,
   "id": "21860c29",
   "metadata": {},
   "outputs": [],
   "source": []
  },
  {
   "cell_type": "code",
   "execution_count": null,
   "id": "f365f783",
   "metadata": {},
   "outputs": [],
   "source": []
  }
 ],
 "metadata": {
  "kernelspec": {
   "display_name": "Python 3",
   "language": "python",
   "name": "python3"
  },
  "language_info": {
   "codemirror_mode": {
    "name": "ipython",
    "version": 3
   },
   "file_extension": ".py",
   "mimetype": "text/x-python",
   "name": "python",
   "nbconvert_exporter": "python",
   "pygments_lexer": "ipython3",
   "version": "3.12.0"
  }
 },
 "nbformat": 4,
 "nbformat_minor": 5
}
