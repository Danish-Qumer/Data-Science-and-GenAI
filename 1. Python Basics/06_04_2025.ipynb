{
 "cells": [
  {
   "cell_type": "code",
   "execution_count": 5,
   "id": "d2f012f1",
   "metadata": {},
   "outputs": [],
   "source": [
    "# condition1 = \"fruit\"\n",
    "# condition2 = \"apple\" "
   ]
  },
  {
   "cell_type": "code",
   "execution_count": 11,
   "id": "a78491b3",
   "metadata": {},
   "outputs": [
    {
     "name": "stdout",
     "output_type": "stream",
     "text": [
      "Item not available\n"
     ]
    }
   ],
   "source": [
    "answer1 = input(\"write the item you want to buy\")\n",
    "\n",
    "if answer1 == \"fruit\":\n",
    "    answer2 = input(\"write the fruit you want to buy\")\n",
    "    if answer2 == \"apple\":\n",
    "        print(\"Task completed\")\n",
    "    else:\n",
    "        print(\"Task not completed\")\n",
    "else:\n",
    "    print(\"Item not available\")\n"
   ]
  },
  {
   "cell_type": "code",
   "execution_count": 12,
   "id": "9c83e31d",
   "metadata": {},
   "outputs": [],
   "source": [
    "# condition1 = Money\n",
    "# condition2 = Time"
   ]
  },
  {
   "cell_type": "code",
   "execution_count": 23,
   "id": "3448c74d",
   "metadata": {},
   "outputs": [
    {
     "name": "stdout",
     "output_type": "stream",
     "text": [
      "Go to beach\n"
     ]
    }
   ],
   "source": [
    "money =int(input(\"Enter the amount you have : \"))\n",
    "time =int(input(\"Enter the time (24hrs format) : \"))\n",
    "\n",
    "if money > 200:\n",
    "    if time < 19:\n",
    "        print(\"Go to theme park\")\n",
    "    else:\n",
    "        print(\"Go home\")\n",
    "else:\n",
    "    if money < 200:\n",
    "        if time > 19:\n",
    "            print(\"Go to ice cream parlor\")\n",
    "        else:\n",
    "            print(\"Go to beach\")"
   ]
  },
  {
   "cell_type": "code",
   "execution_count": null,
   "id": "e33e851e",
   "metadata": {},
   "outputs": [],
   "source": []
  },
  {
   "cell_type": "markdown",
   "id": "38672fe9",
   "metadata": {},
   "source": [
    "# Advance Data Types"
   ]
  },
  {
   "cell_type": "markdown",
   "id": "ecceca80",
   "metadata": {},
   "source": [
    "## list"
   ]
  },
  {
   "cell_type": "code",
   "execution_count": 1,
   "id": "085cbaba",
   "metadata": {},
   "outputs": [],
   "source": [
    "a = [0,1,3,4, \"monal\", \"ashar\", \"heartline\", \"enjoy\", \"nikhil\" ]"
   ]
  },
  {
   "cell_type": "code",
   "execution_count": 2,
   "id": "a549048e",
   "metadata": {},
   "outputs": [
    {
     "data": {
      "text/plain": [
       "9"
      ]
     },
     "execution_count": 2,
     "metadata": {},
     "output_type": "execute_result"
    }
   ],
   "source": [
    "len(a) # total no. of elements"
   ]
  },
  {
   "cell_type": "code",
   "execution_count": 3,
   "id": "7c639757",
   "metadata": {},
   "outputs": [
    {
     "data": {
      "text/plain": [
       "0"
      ]
     },
     "execution_count": 3,
     "metadata": {},
     "output_type": "execute_result"
    }
   ],
   "source": [
    "a[0]"
   ]
  },
  {
   "cell_type": "code",
   "execution_count": 4,
   "id": "d9aa7e1e",
   "metadata": {},
   "outputs": [
    {
     "data": {
      "text/plain": [
       "'monal'"
      ]
     },
     "execution_count": 4,
     "metadata": {},
     "output_type": "execute_result"
    }
   ],
   "source": [
    "a[4]"
   ]
  },
  {
   "cell_type": "code",
   "execution_count": 6,
   "id": "1321027a",
   "metadata": {},
   "outputs": [
    {
     "data": {
      "text/plain": [
       "'nikhil'"
      ]
     },
     "execution_count": 6,
     "metadata": {},
     "output_type": "execute_result"
    }
   ],
   "source": [
    "a[8]"
   ]
  },
  {
   "cell_type": "code",
   "execution_count": 8,
   "id": "54dab6c2",
   "metadata": {},
   "outputs": [
    {
     "data": {
      "text/plain": [
       "5"
      ]
     },
     "execution_count": 8,
     "metadata": {},
     "output_type": "execute_result"
    }
   ],
   "source": [
    "len(\"monal\")"
   ]
  },
  {
   "cell_type": "code",
   "execution_count": null,
   "id": "4eba3edf",
   "metadata": {},
   "outputs": [],
   "source": [
    "a = [ \"monal\", 9745633221, \"abc\", \"123\"]"
   ]
  },
  {
   "cell_type": "code",
   "execution_count": 12,
   "id": "655654ed",
   "metadata": {},
   "outputs": [
    {
     "data": {
      "text/plain": [
       "'nikhil'"
      ]
     },
     "execution_count": 12,
     "metadata": {},
     "output_type": "execute_result"
    }
   ],
   "source": [
    "a[-1]"
   ]
  },
  {
   "cell_type": "code",
   "execution_count": 13,
   "id": "3b2db721",
   "metadata": {},
   "outputs": [
    {
     "data": {
      "text/plain": [
       "[0, 1, 3, 4, 'monal']"
      ]
     },
     "execution_count": 13,
     "metadata": {},
     "output_type": "execute_result"
    }
   ],
   "source": [
    "a[0:5]"
   ]
  },
  {
   "cell_type": "code",
   "execution_count": null,
   "id": "69c00633",
   "metadata": {},
   "outputs": [
    {
     "data": {
      "text/plain": [
       "['monal']"
      ]
     },
     "execution_count": 14,
     "metadata": {},
     "output_type": "execute_result"
    }
   ],
   "source": [
    "a[4:5]"
   ]
  },
  {
   "cell_type": "code",
   "execution_count": 16,
   "id": "6dc58ae9",
   "metadata": {},
   "outputs": [
    {
     "data": {
      "text/plain": [
       "[]"
      ]
     },
     "execution_count": 16,
     "metadata": {},
     "output_type": "execute_result"
    }
   ],
   "source": [
    "a[-1:-3]"
   ]
  },
  {
   "cell_type": "code",
   "execution_count": 17,
   "id": "1d111841",
   "metadata": {},
   "outputs": [
    {
     "data": {
      "text/plain": [
       "['heartline', 'enjoy']"
      ]
     },
     "execution_count": 17,
     "metadata": {},
     "output_type": "execute_result"
    }
   ],
   "source": [
    "a[-3:-1]"
   ]
  },
  {
   "cell_type": "code",
   "execution_count": 18,
   "id": "ed5f0abd",
   "metadata": {},
   "outputs": [
    {
     "data": {
      "text/plain": [
       "[3, 4, 'monal', 'ashar', 'heartline', 'enjoy']"
      ]
     },
     "execution_count": 18,
     "metadata": {},
     "output_type": "execute_result"
    }
   ],
   "source": [
    "a[-7:-1]"
   ]
  },
  {
   "cell_type": "code",
   "execution_count": 20,
   "id": "fd3ba5fb",
   "metadata": {},
   "outputs": [
    {
     "data": {
      "text/plain": [
       "[3, 4, 'monal', 'ashar', 'heartline', 'enjoy', 'nikhil']"
      ]
     },
     "execution_count": 20,
     "metadata": {},
     "output_type": "execute_result"
    }
   ],
   "source": [
    "a[-7:]"
   ]
  },
  {
   "cell_type": "code",
   "execution_count": 22,
   "id": "f35b6858",
   "metadata": {},
   "outputs": [
    {
     "data": {
      "text/plain": [
       "[0, 1, 3, 4, 'monal', 'ashar', 'heartline', 'enjoy', 'nikhil']"
      ]
     },
     "execution_count": 22,
     "metadata": {},
     "output_type": "execute_result"
    }
   ],
   "source": [
    "#a[start:total_number_of_elements]\n",
    "a[0:]\n",
    "  "
   ]
  },
  {
   "cell_type": "code",
   "execution_count": 23,
   "id": "8252085e",
   "metadata": {},
   "outputs": [],
   "source": [
    "names = []\n",
    "places = []"
   ]
  },
  {
   "cell_type": "code",
   "execution_count": 29,
   "id": "d59f208a",
   "metadata": {},
   "outputs": [],
   "source": [
    "name = input(\"enter namen : \")\n",
    "place = input(\"enter place :\")\n",
    "\n",
    "names.append(name)\n",
    "places.append(place)"
   ]
  },
  {
   "cell_type": "code",
   "execution_count": 30,
   "id": "dcb797e8",
   "metadata": {},
   "outputs": [
    {
     "name": "stdout",
     "output_type": "stream",
     "text": [
      "['danish', '1123', 'asad', 'prince']\n",
      "['ranchi', '2..2', 'j$k', 'brg']\n"
     ]
    }
   ],
   "source": [
    "print(names)\n",
    "print(places)"
   ]
  },
  {
   "cell_type": "code",
   "execution_count": 32,
   "id": "cf342c08",
   "metadata": {},
   "outputs": [
    {
     "name": "stdout",
     "output_type": "stream",
     "text": [
      "prince\n",
      "brg\n"
     ]
    }
   ],
   "source": [
    "i = int(input(\"enter the user id to the patient name info :\"))\n",
    "print(names[i])\n",
    "print(places[i])"
   ]
  },
  {
   "cell_type": "code",
   "execution_count": 2,
   "id": "bca0584c",
   "metadata": {},
   "outputs": [],
   "source": [
    "a = [[0,[0,1,2]]]"
   ]
  },
  {
   "cell_type": "code",
   "execution_count": 34,
   "id": "9170e6a6",
   "metadata": {},
   "outputs": [
    {
     "data": {
      "text/plain": [
       "[0, [0, 1, 2]]"
      ]
     },
     "execution_count": 34,
     "metadata": {},
     "output_type": "execute_result"
    }
   ],
   "source": [
    "a[0]"
   ]
  },
  {
   "cell_type": "code",
   "execution_count": null,
   "id": "c25d03cc",
   "metadata": {},
   "outputs": [
    {
     "data": {
      "text/plain": [
       "[0, 1, 2]"
      ]
     },
     "execution_count": 35,
     "metadata": {},
     "output_type": "execute_result"
    }
   ],
   "source": [
    "a[0][1]"
   ]
  },
  {
   "cell_type": "code",
   "execution_count": 3,
   "id": "21894c8e",
   "metadata": {},
   "outputs": [
    {
     "data": {
      "text/plain": [
       "2"
      ]
     },
     "execution_count": 3,
     "metadata": {},
     "output_type": "execute_result"
    }
   ],
   "source": [
    "a[0][1][2]"
   ]
  },
  {
   "cell_type": "code",
   "execution_count": null,
   "id": "d310467d",
   "metadata": {},
   "outputs": [],
   "source": []
  }
 ],
 "metadata": {
  "kernelspec": {
   "display_name": "Python 3",
   "language": "python",
   "name": "python3"
  },
  "language_info": {
   "codemirror_mode": {
    "name": "ipython",
    "version": 3
   },
   "file_extension": ".py",
   "mimetype": "text/x-python",
   "name": "python",
   "nbconvert_exporter": "python",
   "pygments_lexer": "ipython3",
   "version": "3.12.0"
  }
 },
 "nbformat": 4,
 "nbformat_minor": 5
}
