{
 "cells": [
  {
   "cell_type": "code",
   "execution_count": null,
   "id": "fa19b307",
   "metadata": {},
   "outputs": [],
   "source": []
  },
  {
   "cell_type": "markdown",
   "id": "f31e6ee6",
   "metadata": {},
   "source": [
    "%md\n",
    "## VS Code\n",
    "- Step 1 : cd Data-Science-and-GenAI\n",
    "- Step 2 : conda activate env/"
   ]
  },
  {
   "cell_type": "markdown",
   "id": "b99acfa9",
   "metadata": {},
   "source": [
    "### Github Commands\n",
    "- git add .\n",
    "- git commit -m \"Commit Message\"\n",
    "- git push"
   ]
  },
  {
   "cell_type": "markdown",
   "id": "0a5996b4",
   "metadata": {},
   "source": []
  }
 ],
 "metadata": {
  "kernelspec": {
   "display_name": "env",
   "language": "python",
   "name": "python3"
  },
  "language_info": {
   "codemirror_mode": {
    "name": "ipython",
    "version": 3
   },
   "file_extension": ".py",
   "mimetype": "text/x-python",
   "name": "python",
   "nbconvert_exporter": "python",
   "pygments_lexer": "ipython3",
   "version": "3.10.18"
  }
 },
 "nbformat": 4,
 "nbformat_minor": 5
}
