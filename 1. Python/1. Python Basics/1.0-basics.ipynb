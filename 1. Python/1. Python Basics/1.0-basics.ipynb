{
 "cells": [
  {
   "cell_type": "code",
   "execution_count": 3,
   "id": "2866849b",
   "metadata": {},
   "outputs": [
    {
     "data": {
      "text/plain": [
       "2"
      ]
     },
     "execution_count": 3,
     "metadata": {},
     "output_type": "execute_result"
    }
   ],
   "source": [
    "1+1"
   ]
  },
  {
   "cell_type": "code",
   "execution_count": 1,
   "id": "0d66ae13",
   "metadata": {},
   "outputs": [
    {
     "name": "stdout",
     "output_type": "stream",
     "text": [
      "add\n"
     ]
    }
   ],
   "source": [
    "operation_name = \"add\"\n",
    "\n",
    "if operation_name == \"add\":\n",
    "    print(\"add\")\n",
    "elif operation_name == \"subtract\":\n",
    "    prnt(\"subtract\")\n",
    "elif operation_name == \"multiply\":\n",
    "    print(\"multiply\")\n",
    "elif operation_name == \"division\":\n",
    "    print(\"division\")\n",
    "else:\n",
    "    print(\"function not available\")"
   ]
  },
  {
   "cell_type": "code",
   "execution_count": 9,
   "id": "3cc7c9fe",
   "metadata": {},
   "outputs": [],
   "source": [
    "## Basic syntex - \n",
    "# hello today i am learning python\n"
   ]
  },
  {
   "cell_type": "code",
   "execution_count": 2,
   "id": "f4bfc2e2",
   "metadata": {},
   "outputs": [],
   "source": [
    "first_name=\"qumer\"\n",
    "last_name=\"danish\""
   ]
  },
  {
   "cell_type": "code",
   "execution_count": 3,
   "id": "d6c9f344",
   "metadata": {},
   "outputs": [
    {
     "name": "stdout",
     "output_type": "stream",
     "text": [
      "qumer\n"
     ]
    }
   ],
   "source": [
    "print(first_name)"
   ]
  },
  {
   "cell_type": "code",
   "execution_count": 13,
   "id": "2a121f63",
   "metadata": {},
   "outputs": [
    {
     "data": {
      "text/plain": [
       "str"
      ]
     },
     "execution_count": 13,
     "metadata": {},
     "output_type": "execute_result"
    }
   ],
   "source": [
    "type(first_name)"
   ]
  },
  {
   "cell_type": "code",
   "execution_count": 6,
   "id": "ba10bf1c",
   "metadata": {},
   "outputs": [
    {
     "ename": "ValueError",
     "evalue": "could not convert string to float: 'qumer'",
     "output_type": "error",
     "traceback": [
      "\u001b[1;31m---------------------------------------------------------------------------\u001b[0m",
      "\u001b[1;31mValueError\u001b[0m                                Traceback (most recent call last)",
      "Cell \u001b[1;32mIn[6], line 2\u001b[0m\n\u001b[0;32m      1\u001b[0m \u001b[38;5;66;03m### Simple calculator \u001b[39;00m\n\u001b[1;32m----> 2\u001b[0m num1 \u001b[38;5;241m=\u001b[39m \u001b[38;5;28;43mfloat\u001b[39;49m\u001b[43m(\u001b[49m\u001b[38;5;28;43minput\u001b[39;49m\u001b[43m(\u001b[49m\u001b[38;5;124;43m\"\u001b[39;49m\u001b[38;5;124;43mEnter first name: \u001b[39;49m\u001b[38;5;124;43m\"\u001b[39;49m\u001b[43m)\u001b[49m\u001b[43m)\u001b[49m\n\u001b[0;32m      3\u001b[0m num2 \u001b[38;5;241m=\u001b[39m \u001b[38;5;28mfloat\u001b[39m(\u001b[38;5;28minput\u001b[39m(\u001b[38;5;124m\"\u001b[39m\u001b[38;5;124mEnter second: \u001b[39m\u001b[38;5;124m\"\u001b[39m))\n\u001b[0;32m      5\u001b[0m \u001b[38;5;28msum\u001b[39m \u001b[38;5;241m=\u001b[39m num1 \u001b[38;5;241m+\u001b[39m num2\n",
      "\u001b[1;31mValueError\u001b[0m: could not convert string to float: 'qumer'"
     ]
    }
   ],
   "source": [
    "### Simple calculator \n",
    "num1 = float(input(\"Enter first name: \"))\n",
    "num2 = float(input(\"Enter second: \"))\n",
    "\n",
    "sum = num1 + num2\n",
    "difference = num1 - num2\n",
    "product = num1 * num2\n",
    "quotient = num1 / num2\n",
    "print(\"Sum:\", sum)\n",
    "print(\"Difference:\", difference)\n",
    "print(\"Product;\", product)\n",
    "print(\"Quotient\", quotient)\n"
   ]
  },
  {
   "cell_type": "code",
   "execution_count": null,
   "id": "427421ec",
   "metadata": {},
   "outputs": [],
   "source": []
  },
  {
   "cell_type": "code",
   "execution_count": null,
   "id": "2bbb761a",
   "metadata": {},
   "outputs": [],
   "source": []
  },
  {
   "cell_type": "code",
   "execution_count": null,
   "id": "ca5c0410",
   "metadata": {},
   "outputs": [],
   "source": []
  },
  {
   "cell_type": "markdown",
   "id": "fe0d2b30",
   "metadata": {},
   "source": [
    "To run the cell: Shift+Enter"
   ]
  },
  {
   "cell_type": "markdown",
   "id": "c9a4e0a3",
   "metadata": {},
   "source": [
    "#### This is the first topic in python\n",
    "\n"
   ]
  },
  {
   "cell_type": "markdown",
   "id": "0940dc5a",
   "metadata": {},
   "source": [
    "In this we will learnb about python basics"
   ]
  },
  {
   "cell_type": "markdown",
   "id": "2eedf045",
   "metadata": {},
   "source": [
    "To run cell : Shift + Enter"
   ]
  },
  {
   "cell_type": "markdown",
   "id": "459798a3",
   "metadata": {},
   "source": [
    "The notebook covers very basic Python concepts, likely intended for beginners. Based on the content, here are some potential interview questions along with suggested answers:\n",
    "\n",
    "---\n",
    "\n",
    "### **1. What is the output of `1 + 1` in Python?**\n",
    "\n",
    "**Answer:**\n",
    "`2` – It is a simple arithmetic operation.\n",
    "\n",
    "---\n",
    "\n",
    "### **2. Identify the error in the following Python code:**\n",
    "\n",
    "```python\n",
    "operation_name = \"add\"\n",
    "\n",
    "if operation_name == \"add\":\n",
    "    print(\"add\")\n",
    "elif operation_name == \"subtract\":\n",
    "    prnt(\"subtract\")\n",
    "elif operation_name == \"multiply\":\n",
    "    print(\"multiply\")\n",
    "elif operation_name == \"division\":\n",
    "    print(\"division\")\n",
    "else:\n",
    "    print(\"function not available\")\n",
    "```\n",
    "\n",
    "**Answer:**\n",
    "There is a typo in the `elif operation_name == \"subtract\"` block:\n",
    "`prnt(\"subtract\")` should be corrected to `print(\"subtract\")`.\n",
    "\n",
    "---\n",
    "\n",
    "### **3. What is the purpose of `if-elif-else` statements in Python?**\n",
    "\n",
    "**Answer:**\n",
    "They are used for conditional execution. The program evaluates each condition in order and executes the block corresponding to the first `True` condition.\n",
    "\n",
    "---\n",
    "\n",
    "### **4. How do you run a cell in Jupyter Notebook?**\n",
    "\n",
    "**Answer:**\n",
    "By pressing `Shift + Enter`.\n",
    "\n",
    "---\n",
    "\n",
    "### **5. Explain the difference between a syntax error and a logical error using examples.**\n",
    "\n",
    "**Answer:**\n",
    "\n",
    "* **Syntax Error**: Mistake in the code structure, like `prnt(\"hello\")` instead of `print(\"hello\")`.\n",
    "* **Logical Error**: Code runs but gives the wrong result, e.g., using `operation_name == \"division\"` when the intended operation was `\"divide\"`.\n",
    "\n",
    "---\n",
    "\n",
    "### **6. Why is indentation important in Python?**\n",
    "\n",
    "**Answer:**\n",
    "Python uses indentation to define the scope of loops, functions, and conditionals. Improper indentation leads to `IndentationError`.\n",
    "\n"
   ]
  },
  {
   "cell_type": "markdown",
   "id": "bb3a3371",
   "metadata": {},
   "source": [
    "The notebook covers fundamental Python concepts. Here are interview questions grouped by topic, based on the content:\n",
    "\n",
    "---\n",
    "\n",
    "### **Topic: Basic Syntax and Operations**\n",
    "\n",
    "#### **1. What is the output of the following?**\n",
    "\n",
    "```python\n",
    "1 + 1\n",
    "```\n",
    "\n",
    "**Answer:**\n",
    "`2`\n",
    "\n",
    "#### **2. What is a variable in Python? Provide an example.**\n",
    "\n",
    "**Answer:**\n",
    "A variable stores data. Example:\n",
    "\n",
    "```python\n",
    "first_name = \"qumer\"\n",
    "last_name = \"danish\"\n",
    "```\n",
    "\n",
    "#### **3. What does the following line return?**\n",
    "\n",
    "```python\n",
    "type(first_name)\n",
    "```\n",
    "\n",
    "**Answer:**\n",
    "`<class 'str'>` – since `first_name` is a string.\n",
    "\n",
    "---\n",
    "\n",
    "### **Topic: Conditional Statements**\n",
    "\n",
    "#### **4. What will the following code print?**\n",
    "\n",
    "```python\n",
    "operation_name = \"add\"\n",
    "\n",
    "if operation_name == \"add\":\n",
    "    print(\"add\")\n",
    "elif operation_name == \"subtract\":\n",
    "    prnt(\"subtract\")\n",
    "elif operation_name == \"multiply\":\n",
    "    print(\"multiply\")\n",
    "elif operation_name == \"division\":\n",
    "    print(\"division\")\n",
    "else:\n",
    "    print(\"function not available\")\n",
    "```\n",
    "\n",
    "**Answer:**\n",
    "It prints `add`. But there’s a bug in the `\"subtract\"` block (`prnt` instead of `print`), which would raise an error if that path was executed.\n",
    "\n",
    "#### **5. How does Python handle multiple conditions?**\n",
    "\n",
    "**Answer:**\n",
    "Using `if`, `elif`, and `else`. Only the first `True` block runs.\n",
    "\n",
    "---\n",
    "\n",
    "### **Topic: Input and Output**\n",
    "\n",
    "#### **6. What does `input()` do in Python?**\n",
    "\n",
    "**Answer:**\n",
    "It reads a string input from the user. For numeric input, it is often wrapped with `int()` or `float()`.\n",
    "\n",
    "#### **7. Identify the issue in this code:**\n",
    "\n",
    "```python\n",
    "num1 = float(input(\"Enter first name: \"))\n",
    "```\n",
    "\n",
    "**Answer:**\n",
    "The prompt is misleading. It asks for a \"name\" but expects a number. It should be:\n",
    "\n",
    "```python\n",
    "num1 = float(input(\"Enter first number: \"))\n",
    "```\n",
    "\n",
    "---\n",
    "\n",
    "### **Topic: Basic Calculator**\n",
    "\n",
    "#### **8. Write a Python program to add, subtract, multiply, and divide two numbers input by the user.**\n",
    "\n",
    "**Answer:**\n",
    "\n",
    "```python\n",
    "num1 = float(input(\"Enter first number: \"))\n",
    "num2 = float(input(\"Enter second number: \"))\n",
    "\n",
    "print(\"Sum:\", num1 + num2)\n",
    "print(\"Difference:\", num1 - num2)\n",
    "print(\"Product:\", num1 * num2)\n",
    "print(\"Quotient:\", num1 / num2)\n",
    "```\n",
    "\n",
    "#### **9. What data type does `input()` return, and why do we use `float()` here?**\n",
    "\n",
    "**Answer:**\n",
    "`input()` returns a string. `float()` converts it to a number, allowing arithmetic operations.\n",
    "\n",
    "---\n",
    "\n",
    "### **Topic: Syntax and Typing**\n",
    "\n",
    "#### **10. What kind of error is `prnt(\"subtract\")`?**\n",
    "\n",
    "**Answer:**\n",
    "A **NameError** because `prnt` is not defined – it's a typo of `print`.\n",
    "\n",
    "#### **11. What is the result of running `type(\"qumer\")`?**\n",
    "\n",
    "**Answer:**\n",
    "`<class 'str'>` – indicating it's a string.\n"
   ]
  },
  {
   "cell_type": "markdown",
   "id": "6b1b4328",
   "metadata": {},
   "source": []
  }
 ],
 "metadata": {
  "kernelspec": {
   "display_name": "env",
   "language": "python",
   "name": "python3"
  },
  "language_info": {
   "codemirror_mode": {
    "name": "ipython",
    "version": 3
   },
   "file_extension": ".py",
   "mimetype": "text/x-python",
   "name": "python",
   "nbconvert_exporter": "python",
   "pygments_lexer": "ipython3",
   "version": "3.10.18"
  }
 },
 "nbformat": 4,
 "nbformat_minor": 5
}
